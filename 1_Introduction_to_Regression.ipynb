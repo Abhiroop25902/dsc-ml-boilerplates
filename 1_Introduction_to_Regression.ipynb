{
  "cells": [
    {
      "cell_type": "markdown",
      "metadata": {
        "id": "roQOzr12i8tM"
      },
      "source": [
        "![GDSC-IIEST Logo](https://raw.githubusercontent.com/dsc-iiest/.github/main/assets/banner/light-transparent-fullname.svg)"
      ]
    },
    {
      "cell_type": "markdown",
      "metadata": {},
      "source": [
        "<a href=\"https://colab.research.google.com/github/Abhiroop25902/dsc-ml-boilerplates/blob/main/1_Introduction_to_Regression.ipynb\" target=\"_parent\">\n",
        "  <img src=\"https://colab.research.google.com/assets/colab-badge.svg\" alt=\"Open In Colab\"/>\n",
        "</a>"
      ]
    },
    {
      "cell_type": "markdown",
      "metadata": {
        "id": "mAnKqnBUkU0C"
      },
      "source": [
        "# Introduction to Regression\n",
        "\n",
        "Hello Learners,\n",
        "\n",
        "I will be your guide to make you set up everything you need to practice Regression Algorithm\n",
        "\n",
        "We will set up the [Boston House Prices Dataset](https://www.kaggle.com/vikrishnan/boston-house-prices) to help you with your exploration \n",
        "\n",
        "So without further ado, let's get started"
      ]
    },
    {
      "cell_type": "markdown",
      "metadata": {
        "id": "Qv-ZfL0qmNeX"
      },
      "source": [
        "## 1- Download Kaggle API JSON File\n",
        "\n",
        "1. Go to your Kaggle profile and go to the Accounts Tab\n",
        "\n",
        "    ![kaggle-go-account](./images/kaggle-go-account.png)\n",
        "\n",
        "2. Now scroll down to API Section and click \"Generate API Key\" to download `kaggle.json`\n",
        "\n",
        "    ![kaggle-API](./images/kaggle-generate-API.png)\n",
        "\n",
        "3. Now transfer `kaggle.json` to the Notebook Storage\n",
        "\n",
        "4. Run the script below to setup `kaggle.json` to it's required directory"
      ]
    },
    {
      "cell_type": "code",
      "execution_count": 1,
      "metadata": {
        "id": "EmwLuq77hkOr"
      },
      "outputs": [],
      "source": [
        "! mkdir ~/.kaggle\n",
        "! cp kaggle.json ~/.kaggle/\n",
        "! chmod 600 ~/.kaggle/kaggle.json"
      ]
    },
    {
      "cell_type": "markdown",
      "metadata": {},
      "source": [
        "5. Now lets download the [Boston House Prices Dataset](https://www.kaggle.com/vikrishnan/boston-house-prices) using Kaggle API"
      ]
    },
    {
      "cell_type": "code",
      "execution_count": 2,
      "metadata": {
        "colab": {
          "base_uri": "https://localhost:8080/"
        },
        "id": "m7CdDgvzfrNZ",
        "outputId": "e123ac40-e349-4dac-caac-a6031e1520a2"
      },
      "outputs": [
        {
          "name": "stdout",
          "output_type": "stream",
          "text": [
            "Downloading boston-house-prices.zip to /content\n",
            "\r  0% 0.00/12.8k [00:00<?, ?B/s]\n",
            "\r100% 12.8k/12.8k [00:00<00:00, 21.7MB/s]\n"
          ]
        }
      ],
      "source": [
        "!kaggle datasets download -d vikrishnan/boston-house-prices"
      ]
    },
    {
      "cell_type": "markdown",
      "metadata": {},
      "source": [
        "6. Unzip the downloaded .zip file and delete the .zip file"
      ]
    },
    {
      "cell_type": "code",
      "execution_count": 4,
      "metadata": {
        "colab": {
          "base_uri": "https://localhost:8080/"
        },
        "id": "G1m8H4m_hxd2",
        "outputId": "a0e912b6-1fff-404d-a2e6-a09311d3df52"
      },
      "outputs": [
        {
          "name": "stdout",
          "output_type": "stream",
          "text": [
            "Archive:  boston-house-prices.zip\n",
            "  inflating: ./boston-house-prices/housing.csv  \n"
          ]
        }
      ],
      "source": [
        "!unzip boston-house-prices.zip -d ./boston-house-prices/\n",
        "!rm boston-house-prices.zip"
      ]
    },
    {
      "cell_type": "markdown",
      "metadata": {},
      "source": [
        "# What's Next\n",
        "\n",
        "Now you are equipped with the dataset, let you imagination fly, and have fun !!!"
      ]
    }
  ],
  "metadata": {
    "colab": {
      "name": "1-Introduction to Regression.ipynb",
      "provenance": []
    },
    "interpreter": {
      "hash": "fe44fef87f92f48a3a32707d0df204585f471652bc0ce87358a3ce712bc24db0"
    },
    "kernelspec": {
      "display_name": "Python 3.9.7 64-bit",
      "name": "python3"
    },
    "language_info": {
      "name": "python",
      "version": "3.9.7"
    }
  },
  "nbformat": 4,
  "nbformat_minor": 0
}
